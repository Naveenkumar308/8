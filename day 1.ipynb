{
 "cells": [
  {
   "cell_type": "code",
   "execution_count": 1,
   "id": "8aadb226",
   "metadata": {},
   "outputs": [
    {
     "name": "stdout",
     "output_type": "stream",
     "text": [
      "hello sir this my first class\n"
     ]
    }
   ],
   "source": [
    "print (\"hello sir this my first class\")"
   ]
  },
  {
   "cell_type": "code",
   "execution_count": 3,
   "id": "b29e601f",
   "metadata": {},
   "outputs": [
    {
     "name": "stdout",
     "output_type": "stream",
     "text": [
      "hello world . this is Naveen kumar \n"
     ]
    }
   ],
   "source": [
    "print(\"hello world . this is Naveen kumar \")"
   ]
  },
  {
   "cell_type": "code",
   "execution_count": null,
   "id": "a61a64c6",
   "metadata": {},
   "outputs": [],
   "source": []
  }
 ],
 "metadata": {
  "kernelspec": {
   "display_name": "Python 3 (ipykernel)",
   "language": "python",
   "name": "python3"
  },
  "language_info": {
   "codemirror_mode": {
    "name": "ipython",
    "version": 3
   },
   "file_extension": ".py",
   "mimetype": "text/x-python",
   "name": "python",
   "nbconvert_exporter": "python",
   "pygments_lexer": "ipython3",
   "version": "3.9.13"
  }
 },
 "nbformat": 4,
 "nbformat_minor": 5
}
